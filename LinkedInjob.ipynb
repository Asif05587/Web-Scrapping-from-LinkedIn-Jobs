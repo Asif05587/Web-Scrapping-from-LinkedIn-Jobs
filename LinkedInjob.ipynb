{
 "cells": [
  {
   "cell_type": "code",
   "execution_count": 1,
   "id": "75a4e92e-a84a-4514-b4bb-58b3f8e2ad72",
   "metadata": {},
   "outputs": [],
   "source": [
    "#Import Packages\n",
    "from selenium import webdriver\n",
    "import time\n",
    "import pandas as pd\n",
    "import os\n",
    "import itertools\n",
    "\n",
    "\n",
    "#Import Packages\n",
    "\n",
    "from selenium.webdriver.support.select import Select\n",
    "from selenium.webdriver.support.ui import WebDriverWait\n",
    "from selenium.webdriver.common.by import By\n",
    "from selenium.webdriver.support import expected_conditions as EC"
   ]
  },
  {
   "cell_type": "code",
   "execution_count": 2,
   "id": "1974a517-a7b0-4ffe-b661-69e0504bec44",
   "metadata": {},
   "outputs": [],
   "source": [
    "url1='https://www.linkedin.com/jobs/search?keywords=Marketing%20Data%20Analyst&location=Hyderabad%2C%20Telangana%2C%20India&geoId=105556991&trk=public_jobs_jobs-search-bar_search-submit&position=1&pageNum=0'"
   ]
  },
  {
   "cell_type": "code",
   "execution_count": 22,
   "id": "9b9c3e4c-b03d-4667-b5cc-c843d055de3c",
   "metadata": {},
   "outputs": [],
   "source": [
    "driver = webdriver.Chrome()\n",
    "driver.implicitly_wait(10)\n",
    "driver.get(url1)"
   ]
  },
  {
   "cell_type": "code",
   "execution_count": 4,
   "id": "f9155a1d-5257-4788-a200-f0ffccb95819",
   "metadata": {},
   "outputs": [],
   "source": [
    "y=driver.find_elements(By.CLASS_NAME, 'results-context-header__job-count')[0].text\n"
   ]
  },
  {
   "cell_type": "code",
   "execution_count": 5,
   "id": "eea0dd2a-1d3f-4a5c-b0ec-aa596caa1783",
   "metadata": {},
   "outputs": [
    {
     "data": {
      "text/plain": [
       "str"
      ]
     },
     "execution_count": 5,
     "metadata": {},
     "output_type": "execute_result"
    }
   ],
   "source": [
    "type(y)"
   ]
  },
  {
   "cell_type": "code",
   "execution_count": 6,
   "id": "61a95772-1916-4660-9af9-65431a5a2bc2",
   "metadata": {},
   "outputs": [],
   "source": [
    "n=pd.to_numeric(y)"
   ]
  },
  {
   "cell_type": "code",
   "execution_count": 7,
   "id": "5e8281c3-2161-4282-a323-3d4b116bca1e",
   "metadata": {},
   "outputs": [
    {
     "data": {
      "text/plain": [
       "254"
      ]
     },
     "execution_count": 7,
     "metadata": {},
     "output_type": "execute_result"
    }
   ],
   "source": [
    "n"
   ]
  },
  {
   "cell_type": "code",
   "execution_count": 8,
   "id": "1c3d3c13-4030-457f-9273-a107b32b329c",
   "metadata": {},
   "outputs": [],
   "source": [
    "i = 2\n",
    "while i <= int((n + 200) / 25) + 1:\n",
    "    try:\n",
    "        # Scroll to the bottom of the page\n",
    "        driver.execute_script(\"window.scrollTo(0, document.body.scrollHeight);\")\n",
    "        i += 1\n",
    "\n",
    "        # Find buttons with the text \"See more jobs\"\n",
    "        buu = driver.find_elements(By.TAG_NAME, \"button\")\n",
    "        x = [btn for btn in buu if btn.text == \"See more jobs\"]\n",
    "\n",
    "        # Click each \"See more jobs\" button\n",
    "        for btn in x:\n",
    "            driver.execute_script(\"arguments[0].click();\", btn)\n",
    "            time.sleep(3)\n",
    "\n",
    "    except Exception as e:\n",
    "        print(f\"An error occurred: {e}\")\n",
    "        time.sleep(4)\n",
    "\n",
    "\n"
   ]
  },
  {
   "cell_type": "code",
   "execution_count": 9,
   "id": "922957e1-9981-4172-8089-b27440afab01",
   "metadata": {},
   "outputs": [],
   "source": [
    "companyname= []\n",
    "titlename= []"
   ]
  },
  {
   "cell_type": "code",
   "execution_count": 10,
   "id": "e39cd994-ed1f-4760-91bf-3eba6d30e45b",
   "metadata": {},
   "outputs": [],
   "source": [
    "from selenium.webdriver.common.by import By\n",
    "\n",
    "companyname = []  \n",
    "\n",
    "try:\n",
    "    # Find all elements with the specified class name\n",
    "    companies = driver.find_elements(By.CLASS_NAME, 'base-search-card__subtitle')\n",
    "\n",
    "    # Loop through the elements and extract text\n",
    "    for company in companies:\n",
    "        companyname.append(company.text)\n",
    "\n",
    "except IndexError:\n",
    "    print(\"IndexError occurred\")\n",
    "\n",
    "\n"
   ]
  },
  {
   "cell_type": "code",
   "execution_count": 11,
   "id": "3b23d8ba-d233-4eea-9088-645ecc104c91",
   "metadata": {},
   "outputs": [
    {
     "data": {
      "text/plain": [
       "254"
      ]
     },
     "execution_count": 11,
     "metadata": {},
     "output_type": "execute_result"
    }
   ],
   "source": [
    "    len(companyname)\n"
   ]
  },
  {
   "cell_type": "code",
   "execution_count": 12,
   "id": "097e9239-7df2-410e-b19d-7eea88863e7b",
   "metadata": {},
   "outputs": [],
   "source": [
    "from selenium.webdriver.common.by import By\n",
    "\n",
    "titlename = []  \n",
    "\n",
    "try:\n",
    "    # Find all elements with the specified class name\n",
    "    titles = driver.find_elements(By.CLASS_NAME, 'base-search-card__title')\n",
    "\n",
    "    # Loop through the elements and extract text\n",
    "    for title in titles:\n",
    "        titlename.append(title.text)\n",
    "\n",
    "except IndexError:\n",
    "    print(\"IndexError occurred\")\n",
    "\n"
   ]
  },
  {
   "cell_type": "code",
   "execution_count": 13,
   "id": "916328d9-a16c-4812-85f5-180ee0e27ec6",
   "metadata": {},
   "outputs": [
    {
     "data": {
      "text/plain": [
       "254"
      ]
     },
     "execution_count": 13,
     "metadata": {},
     "output_type": "execute_result"
    }
   ],
   "source": [
    "len(titlename)\n"
   ]
  },
  {
   "cell_type": "code",
   "execution_count": 14,
   "id": "dde1cdb6-44e4-4a17-b942-058b0875cf5c",
   "metadata": {},
   "outputs": [],
   "source": [
    "companyfinal=pd.DataFrame(companyname,columns=[\"company\"])\n",
    "titlefinal=pd.DataFrame(titlename,columns=[\"title\"])"
   ]
  },
  {
   "cell_type": "code",
   "execution_count": 15,
   "id": "ef138583-f6f9-4dad-9c04-76678aa6b71a",
   "metadata": {},
   "outputs": [],
   "source": [
    "x=companyfinal.join(titlefinal)"
   ]
  },
  {
   "cell_type": "code",
   "execution_count": 16,
   "id": "cde8c2d5-7ba7-4c07-b074-e968f9864987",
   "metadata": {},
   "outputs": [
    {
     "data": {
      "text/html": [
       "<div>\n",
       "<style scoped>\n",
       "    .dataframe tbody tr th:only-of-type {\n",
       "        vertical-align: middle;\n",
       "    }\n",
       "\n",
       "    .dataframe tbody tr th {\n",
       "        vertical-align: top;\n",
       "    }\n",
       "\n",
       "    .dataframe thead th {\n",
       "        text-align: right;\n",
       "    }\n",
       "</style>\n",
       "<table border=\"1\" class=\"dataframe\">\n",
       "  <thead>\n",
       "    <tr style=\"text-align: right;\">\n",
       "      <th></th>\n",
       "      <th>company</th>\n",
       "      <th>title</th>\n",
       "    </tr>\n",
       "  </thead>\n",
       "  <tbody>\n",
       "    <tr>\n",
       "      <th>0</th>\n",
       "      <td>Saras Analytics</td>\n",
       "      <td>Saras Analytics - Business Analyst - SQL/Python</td>\n",
       "    </tr>\n",
       "    <tr>\n",
       "      <th>1</th>\n",
       "      <td>Thomson Reuters</td>\n",
       "      <td>Senior Analyst - Marketing Analytics</td>\n",
       "    </tr>\n",
       "    <tr>\n",
       "      <th>2</th>\n",
       "      <td>Saras Analytics</td>\n",
       "      <td>Saras Analytics - Market Research Analyst</td>\n",
       "    </tr>\n",
       "    <tr>\n",
       "      <th>3</th>\n",
       "      <td>NxtWave</td>\n",
       "      <td>Nxtwave - Search Engine Optimization Analyst</td>\n",
       "    </tr>\n",
       "    <tr>\n",
       "      <th>4</th>\n",
       "      <td>Angel and Genie</td>\n",
       "      <td>HIRE Senior SEM Analyst - Hyderabad</td>\n",
       "    </tr>\n",
       "    <tr>\n",
       "      <th>...</th>\n",
       "      <td>...</td>\n",
       "      <td>...</td>\n",
       "    </tr>\n",
       "    <tr>\n",
       "      <th>249</th>\n",
       "      <td>Amazon</td>\n",
       "      <td>Business Analyst II - AR, Global Vendor Holdbacks</td>\n",
       "    </tr>\n",
       "    <tr>\n",
       "      <th>250</th>\n",
       "      <td>Forward Eye Technology</td>\n",
       "      <td>BI Developer - Azure Analysis Services</td>\n",
       "    </tr>\n",
       "    <tr>\n",
       "      <th>251</th>\n",
       "      <td>ICE</td>\n",
       "      <td>Principal Business Analyst , Reference Data Op...</td>\n",
       "    </tr>\n",
       "    <tr>\n",
       "      <th>252</th>\n",
       "      <td>Garima Interprises</td>\n",
       "      <td>Market Trends</td>\n",
       "    </tr>\n",
       "    <tr>\n",
       "      <th>253</th>\n",
       "      <td>HighRadius</td>\n",
       "      <td>Content Marketing</td>\n",
       "    </tr>\n",
       "  </tbody>\n",
       "</table>\n",
       "<p>254 rows × 2 columns</p>\n",
       "</div>"
      ],
      "text/plain": [
       "                    company                                              title\n",
       "0           Saras Analytics    Saras Analytics - Business Analyst - SQL/Python\n",
       "1           Thomson Reuters               Senior Analyst - Marketing Analytics\n",
       "2           Saras Analytics          Saras Analytics - Market Research Analyst\n",
       "3                   NxtWave       Nxtwave - Search Engine Optimization Analyst\n",
       "4           Angel and Genie                HIRE Senior SEM Analyst - Hyderabad\n",
       "..                      ...                                                ...\n",
       "249                  Amazon  Business Analyst II - AR, Global Vendor Holdbacks\n",
       "250  Forward Eye Technology             BI Developer - Azure Analysis Services\n",
       "251                     ICE  Principal Business Analyst , Reference Data Op...\n",
       "252      Garima Interprises                                      Market Trends\n",
       "253              HighRadius                                  Content Marketing\n",
       "\n",
       "[254 rows x 2 columns]"
      ]
     },
     "execution_count": 16,
     "metadata": {},
     "output_type": "execute_result"
    }
   ],
   "source": [
    "x\n"
   ]
  },
  {
   "cell_type": "code",
   "execution_count": 17,
   "id": "8212c153-476e-4aeb-ae88-805638fdb4fc",
   "metadata": {},
   "outputs": [],
   "source": [
    "jobList = driver.find_elements(By.CLASS_NAME, 'base-card__full-link')\n",
    "hrefList = []\n",
    "for e in jobList:\n",
    "    hrefList.append(e.get_attribute('href'))\n",
    "\n",
    "#for href in hrefList:\n",
    "    #link.append(href)"
   ]
  },
  {
   "cell_type": "code",
   "execution_count": 18,
   "id": "5a256fec-9882-47e9-b296-9a75219e34f4",
   "metadata": {},
   "outputs": [],
   "source": [
    "linklist=pd.DataFrame(hrefList,columns=[\"joblinks\"])\n"
   ]
  },
  {
   "cell_type": "code",
   "execution_count": 19,
   "id": "0d7b56b3-ab9b-4a66-b0fe-706908b264f5",
   "metadata": {},
   "outputs": [],
   "source": [
    "linklist.to_csv('linkedinlinks.csv')"
   ]
  },
  {
   "cell_type": "code",
   "execution_count": 20,
   "id": "35f186bf-b826-4a70-8d87-363ae7ca14ef",
   "metadata": {},
   "outputs": [],
   "source": [
    "result_df = pd.merge(companyfinal, titlefinal, left_index=True, right_index=True)\n",
    "result_df = pd.merge(result_df, linklist, left_index=True, right_index=True)\n",
    "\n",
    "# Save the result DataFrame to a CSV file\n",
    "result_df.to_csv('output.csv', index=False)\n"
   ]
  },
  {
   "cell_type": "code",
   "execution_count": 23,
   "id": "489fc109-a290-4c66-ba96-0323e4a333a1",
   "metadata": {},
   "outputs": [],
   "source": [
    "driver.close()"
   ]
  },
  {
   "cell_type": "code",
   "execution_count": null,
   "id": "bedc1748-2372-4ca3-9d97-dcfae87dae93",
   "metadata": {},
   "outputs": [
    {
     "name": "stdout",
     "output_type": "stream",
     "text": [
      "Requirement already satisfied: jupyterlab in /usr/local/Cellar/jupyterlab/4.0.11/libexec/lib/python3.12/site-packages (4.0.11)\n",
      "Collecting jupyterlab-git\n",
      "  Downloading jupyterlab_git-0.50.0-py3-none-any.whl.metadata (31 kB)\n",
      "Requirement already satisfied: async-lru>=1.0.0 in /usr/local/Cellar/jupyterlab/4.0.11/libexec/lib/python3.12/site-packages (from jupyterlab) (2.0.4)\n",
      "Requirement already satisfied: ipykernel in /usr/local/Cellar/jupyterlab/4.0.11/libexec/lib/python3.12/site-packages (from jupyterlab) (6.29.0)\n",
      "Requirement already satisfied: jinja2>=3.0.3 in /usr/local/opt/python-jinja/lib/python3.12/site-packages (from jupyterlab) (3.1.3)\n",
      "Requirement already satisfied: jupyter-core in /usr/local/Cellar/jupyterlab/4.0.11/libexec/lib/python3.12/site-packages (from jupyterlab) (5.7.1)\n",
      "Requirement already satisfied: jupyter-lsp>=2.0.0 in /usr/local/Cellar/jupyterlab/4.0.11/libexec/lib/python3.12/site-packages (from jupyterlab) (2.2.2)\n",
      "Requirement already satisfied: jupyter-server<3,>=2.4.0 in /usr/local/Cellar/jupyterlab/4.0.11/libexec/lib/python3.12/site-packages (from jupyterlab) (2.12.5)\n",
      "Requirement already satisfied: jupyterlab-server<3,>=2.19.0 in /usr/local/Cellar/jupyterlab/4.0.11/libexec/lib/python3.12/site-packages (from jupyterlab) (2.25.2)\n",
      "Requirement already satisfied: notebook-shim>=0.2 in /usr/local/Cellar/jupyterlab/4.0.11/libexec/lib/python3.12/site-packages (from jupyterlab) (0.2.3)\n",
      "Requirement already satisfied: packaging in /usr/local/opt/python-packaging/lib/python3.12/site-packages (from jupyterlab) (23.2)\n",
      "Requirement already satisfied: tornado>=6.2.0 in /usr/local/Cellar/jupyterlab/4.0.11/libexec/lib/python3.12/site-packages (from jupyterlab) (6.4)\n",
      "Requirement already satisfied: traitlets in /usr/local/opt/ipython/libexec/lib/python3.12/site-packages (from jupyterlab) (5.14.1)\n",
      "Collecting nbdime~=4.0.1 (from jupyterlab-git)\n",
      "  Downloading nbdime-4.0.1-py3-none-any.whl.metadata (9.5 kB)\n",
      "Requirement already satisfied: nbformat in /usr/local/Cellar/jupyterlab/4.0.11/libexec/lib/python3.12/site-packages (from jupyterlab-git) (5.9.2)\n",
      "Requirement already satisfied: pexpect in /usr/local/opt/ipython/libexec/lib/python3.12/site-packages (from jupyterlab-git) (4.9.0)\n",
      "Requirement already satisfied: MarkupSafe>=2.0 in /usr/local/opt/python-markupsafe/lib/python3.12/site-packages (from jinja2>=3.0.3->jupyterlab) (2.1.4)\n",
      "Requirement already satisfied: anyio>=3.1.0 in /usr/local/Cellar/jupyterlab/4.0.11/libexec/lib/python3.12/site-packages (from jupyter-server<3,>=2.4.0->jupyterlab) (4.2.0)\n",
      "Requirement already satisfied: argon2-cffi in /usr/local/Cellar/jupyterlab/4.0.11/libexec/lib/python3.12/site-packages (from jupyter-server<3,>=2.4.0->jupyterlab) (23.1.0)\n",
      "Requirement already satisfied: jupyter-client>=7.4.4 in /usr/local/Cellar/jupyterlab/4.0.11/libexec/lib/python3.12/site-packages (from jupyter-server<3,>=2.4.0->jupyterlab) (8.6.0)\n",
      "Requirement already satisfied: jupyter-events>=0.9.0 in /usr/local/Cellar/jupyterlab/4.0.11/libexec/lib/python3.12/site-packages (from jupyter-server<3,>=2.4.0->jupyterlab) (0.9.0)\n",
      "Requirement already satisfied: jupyter-server-terminals in /usr/local/Cellar/jupyterlab/4.0.11/libexec/lib/python3.12/site-packages (from jupyter-server<3,>=2.4.0->jupyterlab) (0.5.1)\n",
      "Requirement already satisfied: nbconvert>=6.4.4 in /usr/local/Cellar/jupyterlab/4.0.11/libexec/lib/python3.12/site-packages (from jupyter-server<3,>=2.4.0->jupyterlab) (7.14.2)\n",
      "Requirement already satisfied: overrides in /usr/local/Cellar/jupyterlab/4.0.11/libexec/lib/python3.12/site-packages (from jupyter-server<3,>=2.4.0->jupyterlab) (7.4.0)\n",
      "Requirement already satisfied: prometheus-client in /usr/local/Cellar/jupyterlab/4.0.11/libexec/lib/python3.12/site-packages (from jupyter-server<3,>=2.4.0->jupyterlab) (0.19.0)\n",
      "Requirement already satisfied: pyzmq>=24 in /usr/local/Cellar/jupyterlab/4.0.11/libexec/lib/python3.12/site-packages (from jupyter-server<3,>=2.4.0->jupyterlab) (25.1.2)\n",
      "Requirement already satisfied: send2trash>=1.8.2 in /usr/local/Cellar/jupyterlab/4.0.11/libexec/lib/python3.12/site-packages (from jupyter-server<3,>=2.4.0->jupyterlab) (1.8.2)\n",
      "Requirement already satisfied: terminado>=0.8.3 in /usr/local/Cellar/jupyterlab/4.0.11/libexec/lib/python3.12/site-packages (from jupyter-server<3,>=2.4.0->jupyterlab) (0.18.0)\n",
      "Requirement already satisfied: websocket-client in /usr/local/Cellar/jupyterlab/4.0.11/libexec/lib/python3.12/site-packages (from jupyter-server<3,>=2.4.0->jupyterlab) (1.7.0)\n",
      "Requirement already satisfied: platformdirs>=2.5 in /usr/local/Cellar/jupyterlab/4.0.11/libexec/lib/python3.12/site-packages (from jupyter-core->jupyterlab) (4.1.0)\n",
      "Requirement already satisfied: babel>=2.10 in /usr/local/Cellar/jupyterlab/4.0.11/libexec/lib/python3.12/site-packages (from jupyterlab-server<3,>=2.19.0->jupyterlab) (2.14.0)\n",
      "Requirement already satisfied: json5>=0.9.0 in /usr/local/Cellar/jupyterlab/4.0.11/libexec/lib/python3.12/site-packages (from jupyterlab-server<3,>=2.19.0->jupyterlab) (0.9.14)\n",
      "Requirement already satisfied: jsonschema>=4.18.0 in /usr/local/Cellar/jupyterlab/4.0.11/libexec/lib/python3.12/site-packages (from jupyterlab-server<3,>=2.19.0->jupyterlab) (4.21.0)\n",
      "Requirement already satisfied: requests>=2.31 in /usr/local/opt/python-requests/lib/python3.12/site-packages (from jupyterlab-server<3,>=2.19.0->jupyterlab) (2.31.0)\n",
      "Collecting colorama (from nbdime~=4.0.1->jupyterlab-git)\n",
      "  Downloading colorama-0.4.6-py2.py3-none-any.whl (25 kB)\n",
      "Collecting gitpython!=2.1.4,!=2.1.5,!=2.1.6 (from nbdime~=4.0.1->jupyterlab-git)\n",
      "  Downloading GitPython-3.1.41-py3-none-any.whl.metadata (14 kB)\n",
      "Collecting jupyter-server-mathjax>=0.2.2 (from nbdime~=4.0.1->jupyterlab-git)\n",
      "  Downloading jupyter_server_mathjax-0.2.6-py3-none-any.whl (3.1 MB)\n",
      "\u001b[2K     \u001b[90m━━━━━━━━━━━━━━━━━━━━━━━━━━━━━━━━━━━━━━━━\u001b[0m \u001b[32m3.1/3.1 MB\u001b[0m \u001b[31m1.2 MB/s\u001b[0m eta \u001b[36m0:00:00\u001b[0m00:01\u001b[0m00:01\u001b[0m\n",
      "\u001b[?25hRequirement already satisfied: pygments in /usr/local/opt/pygments/lib/python3.12/site-packages (from nbdime~=4.0.1->jupyterlab-git) (2.17.2)\n",
      "Requirement already satisfied: fastjsonschema in /usr/local/Cellar/jupyterlab/4.0.11/libexec/lib/python3.12/site-packages (from nbformat->jupyterlab-git) (2.19.1)\n",
      "Requirement already satisfied: appnope in /usr/local/Cellar/jupyterlab/4.0.11/libexec/lib/python3.12/site-packages (from ipykernel->jupyterlab) (0.1.3)\n",
      "Requirement already satisfied: comm>=0.1.1 in /usr/local/Cellar/jupyterlab/4.0.11/libexec/lib/python3.12/site-packages (from ipykernel->jupyterlab) (0.2.1)\n",
      "Requirement already satisfied: debugpy>=1.6.5 in /usr/local/Cellar/jupyterlab/4.0.11/libexec/lib/python3.12/site-packages (from ipykernel->jupyterlab) (1.8.0)\n",
      "Requirement already satisfied: ipython>=7.23.1 in /usr/local/opt/ipython/libexec/lib/python3.12/site-packages (from ipykernel->jupyterlab) (8.20.0)\n",
      "Requirement already satisfied: matplotlib-inline>=0.1 in /usr/local/opt/ipython/libexec/lib/python3.12/site-packages (from ipykernel->jupyterlab) (0.1.6)\n",
      "Requirement already satisfied: nest-asyncio in /usr/local/Cellar/jupyterlab/4.0.11/libexec/lib/python3.12/site-packages (from ipykernel->jupyterlab) (1.5.9)\n",
      "Requirement already satisfied: psutil in /usr/local/opt/python-psutil/lib/python3.12/site-packages (from ipykernel->jupyterlab) (5.9.8)\n",
      "Requirement already satisfied: ptyprocess>=0.5 in /usr/local/opt/ipython/libexec/lib/python3.12/site-packages (from pexpect->jupyterlab-git) (0.7.0)\n",
      "Requirement already satisfied: idna>=2.8 in /usr/local/opt/python-idna/lib/python3.12/site-packages (from anyio>=3.1.0->jupyter-server<3,>=2.4.0->jupyterlab) (3.6)\n",
      "Requirement already satisfied: sniffio>=1.1 in /usr/local/Cellar/jupyterlab/4.0.11/libexec/lib/python3.12/site-packages (from anyio>=3.1.0->jupyter-server<3,>=2.4.0->jupyterlab) (1.3.0)\n",
      "Collecting gitdb<5,>=4.0.1 (from gitpython!=2.1.4,!=2.1.5,!=2.1.6->nbdime~=4.0.1->jupyterlab-git)\n",
      "  Downloading gitdb-4.0.11-py3-none-any.whl.metadata (1.2 kB)\n",
      "Requirement already satisfied: decorator in /usr/local/opt/ipython/libexec/lib/python3.12/site-packages (from ipython>=7.23.1->ipykernel->jupyterlab) (5.1.1)\n",
      "Requirement already satisfied: jedi>=0.16 in /usr/local/opt/ipython/libexec/lib/python3.12/site-packages (from ipython>=7.23.1->ipykernel->jupyterlab) (0.19.1)\n",
      "Requirement already satisfied: prompt-toolkit<3.1.0,>=3.0.41 in /usr/local/opt/ipython/libexec/lib/python3.12/site-packages (from ipython>=7.23.1->ipykernel->jupyterlab) (3.0.43)\n",
      "Requirement already satisfied: stack-data in /usr/local/opt/ipython/libexec/lib/python3.12/site-packages (from ipython>=7.23.1->ipykernel->jupyterlab) (0.6.3)\n",
      "Requirement already satisfied: attrs>=22.2.0 in /usr/local/Cellar/jupyterlab/4.0.11/libexec/lib/python3.12/site-packages (from jsonschema>=4.18.0->jupyterlab-server<3,>=2.19.0->jupyterlab) (23.2.0)\n",
      "Requirement already satisfied: jsonschema-specifications>=2023.03.6 in /usr/local/Cellar/jupyterlab/4.0.11/libexec/lib/python3.12/site-packages (from jsonschema>=4.18.0->jupyterlab-server<3,>=2.19.0->jupyterlab) (2023.12.1)\n",
      "Requirement already satisfied: referencing>=0.28.4 in /usr/local/Cellar/jupyterlab/4.0.11/libexec/lib/python3.12/site-packages (from jsonschema>=4.18.0->jupyterlab-server<3,>=2.19.0->jupyterlab) (0.32.1)\n",
      "Requirement already satisfied: rpds-py>=0.7.1 in /usr/local/Cellar/jupyterlab/4.0.11/libexec/lib/python3.12/site-packages (from jsonschema>=4.18.0->jupyterlab-server<3,>=2.19.0->jupyterlab) (0.17.1)\n",
      "Requirement already satisfied: python-dateutil>=2.8.2 in /usr/local/opt/python-dateutil/lib/python3.12/site-packages (from jupyter-client>=7.4.4->jupyter-server<3,>=2.4.0->jupyterlab) (2.8.2)\n",
      "Requirement already satisfied: python-json-logger>=2.0.4 in /usr/local/Cellar/jupyterlab/4.0.11/libexec/lib/python3.12/site-packages (from jupyter-events>=0.9.0->jupyter-server<3,>=2.4.0->jupyterlab) (2.0.7)\n",
      "Requirement already satisfied: pyyaml>=5.3 in /usr/local/opt/pyyaml/lib/python3.12/site-packages (from jupyter-events>=0.9.0->jupyter-server<3,>=2.4.0->jupyterlab) (6.0.1)\n",
      "Requirement already satisfied: rfc3339-validator in /usr/local/Cellar/jupyterlab/4.0.11/libexec/lib/python3.12/site-packages (from jupyter-events>=0.9.0->jupyter-server<3,>=2.4.0->jupyterlab) (0.1.4)\n",
      "Requirement already satisfied: rfc3986-validator>=0.1.1 in /usr/local/Cellar/jupyterlab/4.0.11/libexec/lib/python3.12/site-packages (from jupyter-events>=0.9.0->jupyter-server<3,>=2.4.0->jupyterlab) (0.1.1)\n",
      "Requirement already satisfied: beautifulsoup4 in /usr/local/Cellar/jupyterlab/4.0.11/libexec/lib/python3.12/site-packages (from nbconvert>=6.4.4->jupyter-server<3,>=2.4.0->jupyterlab) (4.12.3)\n",
      "Requirement already satisfied: bleach!=5.0.0 in /usr/local/Cellar/jupyterlab/4.0.11/libexec/lib/python3.12/site-packages (from nbconvert>=6.4.4->jupyter-server<3,>=2.4.0->jupyterlab) (6.1.0)\n",
      "Requirement already satisfied: defusedxml in /usr/local/Cellar/jupyterlab/4.0.11/libexec/lib/python3.12/site-packages (from nbconvert>=6.4.4->jupyter-server<3,>=2.4.0->jupyterlab) (0.7.1)\n",
      "Requirement already satisfied: jupyterlab-pygments in /usr/local/Cellar/jupyterlab/4.0.11/libexec/lib/python3.12/site-packages (from nbconvert>=6.4.4->jupyter-server<3,>=2.4.0->jupyterlab) (0.3.0)\n",
      "Requirement already satisfied: mistune<4,>=2.0.3 in /usr/local/Cellar/jupyterlab/4.0.11/libexec/lib/python3.12/site-packages (from nbconvert>=6.4.4->jupyter-server<3,>=2.4.0->jupyterlab) (3.0.2)\n",
      "Requirement already satisfied: nbclient>=0.5.0 in /usr/local/Cellar/jupyterlab/4.0.11/libexec/lib/python3.12/site-packages (from nbconvert>=6.4.4->jupyter-server<3,>=2.4.0->jupyterlab) (0.9.0)\n",
      "Requirement already satisfied: pandocfilters>=1.4.1 in /usr/local/Cellar/jupyterlab/4.0.11/libexec/lib/python3.12/site-packages (from nbconvert>=6.4.4->jupyter-server<3,>=2.4.0->jupyterlab) (1.5.1)\n",
      "Requirement already satisfied: tinycss2 in /usr/local/Cellar/jupyterlab/4.0.11/libexec/lib/python3.12/site-packages (from nbconvert>=6.4.4->jupyter-server<3,>=2.4.0->jupyterlab) (1.2.1)\n",
      "Requirement already satisfied: charset-normalizer<4,>=2 in /usr/local/opt/python-charset-normalizer/lib/python3.12/site-packages (from requests>=2.31->jupyterlab-server<3,>=2.19.0->jupyterlab) (3.3.2)\n",
      "Requirement already satisfied: urllib3<3,>=1.21.1 in /usr/local/opt/python-urllib3/lib/python3.12/site-packages (from requests>=2.31->jupyterlab-server<3,>=2.19.0->jupyterlab) (2.1.0)\n",
      "Requirement already satisfied: certifi>=2017.4.17 in /usr/local/opt/python-certifi/lib/python3.12/site-packages (from requests>=2.31->jupyterlab-server<3,>=2.19.0->jupyterlab) (2023.11.17)\n",
      "Requirement already satisfied: argon2-cffi-bindings in /usr/local/Cellar/jupyterlab/4.0.11/libexec/lib/python3.12/site-packages (from argon2-cffi->jupyter-server<3,>=2.4.0->jupyterlab) (21.2.0)\n",
      "Requirement already satisfied: six>=1.9.0 in /usr/local/opt/six/lib/python3.12/site-packages (from bleach!=5.0.0->nbconvert>=6.4.4->jupyter-server<3,>=2.4.0->jupyterlab) (1.16.0)\n",
      "Requirement already satisfied: webencodings in /usr/local/Cellar/jupyterlab/4.0.11/libexec/lib/python3.12/site-packages (from bleach!=5.0.0->nbconvert>=6.4.4->jupyter-server<3,>=2.4.0->jupyterlab) (0.5.1)\n",
      "Collecting smmap<6,>=3.0.1 (from gitdb<5,>=4.0.1->gitpython!=2.1.4,!=2.1.5,!=2.1.6->nbdime~=4.0.1->jupyterlab-git)\n",
      "  Downloading smmap-5.0.1-py3-none-any.whl.metadata (4.3 kB)\n",
      "Requirement already satisfied: parso<0.9.0,>=0.8.3 in /usr/local/opt/ipython/libexec/lib/python3.12/site-packages (from jedi>=0.16->ipython>=7.23.1->ipykernel->jupyterlab) (0.8.3)\n",
      "Requirement already satisfied: fqdn in /usr/local/Cellar/jupyterlab/4.0.11/libexec/lib/python3.12/site-packages (from jsonschema[format-nongpl]>=4.18.0->jupyter-events>=0.9.0->jupyter-server<3,>=2.4.0->jupyterlab) (1.5.1)\n",
      "Requirement already satisfied: isoduration in /usr/local/Cellar/jupyterlab/4.0.11/libexec/lib/python3.12/site-packages (from jsonschema[format-nongpl]>=4.18.0->jupyter-events>=0.9.0->jupyter-server<3,>=2.4.0->jupyterlab) (20.11.0)\n",
      "Requirement already satisfied: jsonpointer>1.13 in /usr/local/Cellar/jupyterlab/4.0.11/libexec/lib/python3.12/site-packages (from jsonschema[format-nongpl]>=4.18.0->jupyter-events>=0.9.0->jupyter-server<3,>=2.4.0->jupyterlab) (2.4)\n",
      "Requirement already satisfied: uri-template in /usr/local/Cellar/jupyterlab/4.0.11/libexec/lib/python3.12/site-packages (from jsonschema[format-nongpl]>=4.18.0->jupyter-events>=0.9.0->jupyter-server<3,>=2.4.0->jupyterlab) (1.3.0)\n",
      "Requirement already satisfied: webcolors>=1.11 in /usr/local/Cellar/jupyterlab/4.0.11/libexec/lib/python3.12/site-packages (from jsonschema[format-nongpl]>=4.18.0->jupyter-events>=0.9.0->jupyter-server<3,>=2.4.0->jupyterlab) (1.13)\n",
      "Requirement already satisfied: wcwidth in /usr/local/opt/ipython/libexec/lib/python3.12/site-packages (from prompt-toolkit<3.1.0,>=3.0.41->ipython>=7.23.1->ipykernel->jupyterlab) (0.2.13)\n",
      "Requirement already satisfied: cffi>=1.0.1 in /usr/local/opt/cffi/lib/python3.12/site-packages (from argon2-cffi-bindings->argon2-cffi->jupyter-server<3,>=2.4.0->jupyterlab) (1.16.0)\n",
      "Requirement already satisfied: soupsieve>1.2 in /usr/local/Cellar/jupyterlab/4.0.11/libexec/lib/python3.12/site-packages (from beautifulsoup4->nbconvert>=6.4.4->jupyter-server<3,>=2.4.0->jupyterlab) (2.5)\n",
      "Requirement already satisfied: executing>=1.2.0 in /usr/local/opt/ipython/libexec/lib/python3.12/site-packages (from stack-data->ipython>=7.23.1->ipykernel->jupyterlab) (2.0.1)\n",
      "Requirement already satisfied: asttokens>=2.1.0 in /usr/local/opt/ipython/libexec/lib/python3.12/site-packages (from stack-data->ipython>=7.23.1->ipykernel->jupyterlab) (2.4.1)\n",
      "Requirement already satisfied: pure-eval in /usr/local/opt/ipython/libexec/lib/python3.12/site-packages (from stack-data->ipython>=7.23.1->ipykernel->jupyterlab) (0.2.2)\n",
      "Requirement already satisfied: pycparser in /usr/local/opt/pycparser/lib/python3.12/site-packages (from cffi>=1.0.1->argon2-cffi-bindings->argon2-cffi->jupyter-server<3,>=2.4.0->jupyterlab) (2.21)\n",
      "Requirement already satisfied: arrow>=0.15.0 in /usr/local/Cellar/jupyterlab/4.0.11/libexec/lib/python3.12/site-packages (from isoduration->jsonschema[format-nongpl]>=4.18.0->jupyter-events>=0.9.0->jupyter-server<3,>=2.4.0->jupyterlab) (1.3.0)\n",
      "Requirement already satisfied: types-python-dateutil>=2.8.10 in /usr/local/Cellar/jupyterlab/4.0.11/libexec/lib/python3.12/site-packages (from arrow>=0.15.0->isoduration->jsonschema[format-nongpl]>=4.18.0->jupyter-events>=0.9.0->jupyter-server<3,>=2.4.0->jupyterlab) (2.8.19.20240106)\n",
      "Downloading jupyterlab_git-0.50.0-py3-none-any.whl (1.2 MB)\n",
      "\u001b[2K   \u001b[90m━━━━━━━━━━━━━━━━━━━━━━━━━━━━━━━━━━━━━━━━\u001b[0m \u001b[32m1.2/1.2 MB\u001b[0m \u001b[31m580.9 kB/s\u001b[0m eta \u001b[36m0:00:00\u001b[0m00:01\u001b[0m00:01\u001b[0m\n",
      "\u001b[?25h"
     ]
    }
   ],
   "source": [
    "pip install --upgrade jupyterlab jupyterlab-git\n"
   ]
  }
 ],
 "metadata": {
  "kernelspec": {
   "display_name": "Python 3 (ipykernel)",
   "language": "python",
   "name": "python3"
  },
  "language_info": {
   "codemirror_mode": {
    "name": "ipython",
    "version": 3
   },
   "file_extension": ".py",
   "mimetype": "text/x-python",
   "name": "python",
   "nbconvert_exporter": "python",
   "pygments_lexer": "ipython3",
   "version": "3.12.1"
  }
 },
 "nbformat": 4,
 "nbformat_minor": 5
}
