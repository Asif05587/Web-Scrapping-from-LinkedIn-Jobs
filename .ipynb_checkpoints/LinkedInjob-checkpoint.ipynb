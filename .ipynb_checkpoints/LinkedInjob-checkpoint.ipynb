{
 "cells": [
  {
   "cell_type": "code",
   "execution_count": 1,
   "id": "75a4e92e-a84a-4514-b4bb-58b3f8e2ad72",
   "metadata": {},
   "outputs": [],
   "source": [
    "#Import Packages\n",
    "from selenium import webdriver\n",
    "import time\n",
    "import pandas as pd\n",
    "import os\n",
    "import itertools\n",
    "\n",
    "\n",
    "#Import Packages\n",
    "\n",
    "from selenium.webdriver.support.select import Select\n",
    "from selenium.webdriver.support.ui import WebDriverWait\n",
    "from selenium.webdriver.common.by import By\n",
    "from selenium.webdriver.support import expected_conditions as EC"
   ]
  },
  {
   "cell_type": "code",
   "execution_count": 2,
   "id": "1974a517-a7b0-4ffe-b661-69e0504bec44",
   "metadata": {},
   "outputs": [],
   "source": [
    "url1='https://www.linkedin.com/jobs/search?keywords=Marketing%20Data%20Analyst&location=Hyderabad%2C%20Telangana%2C%20India&geoId=105556991&trk=public_jobs_jobs-search-bar_search-submit&position=1&pageNum=0'"
   ]
  },
  {
   "cell_type": "code",
   "execution_count": 22,
   "id": "9b9c3e4c-b03d-4667-b5cc-c843d055de3c",
   "metadata": {},
   "outputs": [],
   "source": [
    "driver = webdriver.Chrome()\n",
    "driver.implicitly_wait(10)\n",
    "driver.get(url1)"
   ]
  },
  {
   "cell_type": "code",
   "execution_count": 4,
   "id": "f9155a1d-5257-4788-a200-f0ffccb95819",
   "metadata": {},
   "outputs": [],
   "source": [
    "y=driver.find_elements(By.CLASS_NAME, 'results-context-header__job-count')[0].text\n"
   ]
  },
  {
   "cell_type": "code",
   "execution_count": 5,
   "id": "eea0dd2a-1d3f-4a5c-b0ec-aa596caa1783",
   "metadata": {},
   "outputs": [
    {
     "data": {
      "text/plain": [
       "str"
      ]
     },
     "execution_count": 5,
     "metadata": {},
     "output_type": "execute_result"
    }
   ],
   "source": [
    "type(y)"
   ]
  },
  {
   "cell_type": "code",
   "execution_count": 6,
   "id": "61a95772-1916-4660-9af9-65431a5a2bc2",
   "metadata": {},
   "outputs": [],
   "source": [
    "n=pd.to_numeric(y)"
   ]
  },
  {
   "cell_type": "code",
   "execution_count": 7,
   "id": "5e8281c3-2161-4282-a323-3d4b116bca1e",
   "metadata": {},
   "outputs": [
    {
     "data": {
      "text/plain": [
       "254"
      ]
     },
     "execution_count": 7,
     "metadata": {},
     "output_type": "execute_result"
    }
   ],
   "source": [
    "n"
   ]
  },
  {
   "cell_type": "code",
   "execution_count": 8,
   "id": "1c3d3c13-4030-457f-9273-a107b32b329c",
   "metadata": {},
   "outputs": [],
   "source": [
    "i = 2\n",
    "while i <= int((n + 200) / 25) + 1:\n",
    "    try:\n",
    "        # Scroll to the bottom of the page\n",
    "        driver.execute_script(\"window.scrollTo(0, document.body.scrollHeight);\")\n",
    "        i += 1\n",
    "\n",
    "        # Find buttons with the text \"See more jobs\"\n",
    "        buu = driver.find_elements(By.TAG_NAME, \"button\")\n",
    "        x = [btn for btn in buu if btn.text == \"See more jobs\"]\n",
    "\n",
    "        # Click each \"See more jobs\" button\n",
    "        for btn in x:\n",
    "            driver.execute_script(\"arguments[0].click();\", btn)\n",
    "            time.sleep(3)\n",
    "\n",
    "    except Exception as e:\n",
    "        print(f\"An error occurred: {e}\")\n",
    "        time.sleep(4)\n",
    "\n",
    "\n"
   ]
  },
  {
   "cell_type": "code",
   "execution_count": 9,
   "id": "922957e1-9981-4172-8089-b27440afab01",
   "metadata": {},
   "outputs": [],
   "source": [
    "companyname= []\n",
    "titlename= []"
   ]
  },
  {
   "cell_type": "code",
   "execution_count": 10,
   "id": "e39cd994-ed1f-4760-91bf-3eba6d30e45b",
   "metadata": {},
   "outputs": [],
   "source": [
    "from selenium.webdriver.common.by import By\n",
    "\n",
    "companyname = []  \n",
    "\n",
    "try:\n",
    "    # Find all elements with the specified class name\n",
    "    companies = driver.find_elements(By.CLASS_NAME, 'base-search-card__subtitle')\n",
    "\n",
    "    # Loop through the elements and extract text\n",
    "    for company in companies:\n",
    "        companyname.append(company.text)\n",
    "\n",
    "except IndexError:\n",
    "    print(\"IndexError occurred\")\n",
    "\n",
    "\n"
   ]
  },
  {
   "cell_type": "code",
   "execution_count": 11,
   "id": "3b23d8ba-d233-4eea-9088-645ecc104c91",
   "metadata": {},
   "outputs": [
    {
     "data": {
      "text/plain": [
       "254"
      ]
     },
     "execution_count": 11,
     "metadata": {},
     "output_type": "execute_result"
    }
   ],
   "source": [
    "    len(companyname)\n"
   ]
  },
  {
   "cell_type": "code",
   "execution_count": 12,
   "id": "097e9239-7df2-410e-b19d-7eea88863e7b",
   "metadata": {},
   "outputs": [],
   "source": [
    "from selenium.webdriver.common.by import By\n",
    "\n",
    "titlename = []  \n",
    "\n",
    "try:\n",
    "    # Find all elements with the specified class name\n",
    "    titles = driver.find_elements(By.CLASS_NAME, 'base-search-card__title')\n",
    "\n",
    "    # Loop through the elements and extract text\n",
    "    for title in titles:\n",
    "        titlename.append(title.text)\n",
    "\n",
    "except IndexError:\n",
    "    print(\"IndexError occurred\")\n",
    "\n"
   ]
  },
  {
   "cell_type": "code",
   "execution_count": 13,
   "id": "916328d9-a16c-4812-85f5-180ee0e27ec6",
   "metadata": {},
   "outputs": [
    {
     "data": {
      "text/plain": [
       "254"
      ]
     },
     "execution_count": 13,
     "metadata": {},
     "output_type": "execute_result"
    }
   ],
   "source": [
    "len(titlename)\n"
   ]
  },
  {
   "cell_type": "code",
   "execution_count": 14,
   "id": "dde1cdb6-44e4-4a17-b942-058b0875cf5c",
   "metadata": {},
   "outputs": [],
   "source": [
    "companyfinal=pd.DataFrame(companyname,columns=[\"company\"])\n",
    "titlefinal=pd.DataFrame(titlename,columns=[\"title\"])"
   ]
  },
  {
   "cell_type": "code",
   "execution_count": 15,
   "id": "ef138583-f6f9-4dad-9c04-76678aa6b71a",
   "metadata": {},
   "outputs": [],
   "source": [
    "x=companyfinal.join(titlefinal)"
   ]
  },
  {
   "cell_type": "code",
   "execution_count": 16,
   "id": "cde8c2d5-7ba7-4c07-b074-e968f9864987",
   "metadata": {},
   "outputs": [
    {
     "data": {
      "text/html": [
       "<div>\n",
       "<style scoped>\n",
       "    .dataframe tbody tr th:only-of-type {\n",
       "        vertical-align: middle;\n",
       "    }\n",
       "\n",
       "    .dataframe tbody tr th {\n",
       "        vertical-align: top;\n",
       "    }\n",
       "\n",
       "    .dataframe thead th {\n",
       "        text-align: right;\n",
       "    }\n",
       "</style>\n",
       "<table border=\"1\" class=\"dataframe\">\n",
       "  <thead>\n",
       "    <tr style=\"text-align: right;\">\n",
       "      <th></th>\n",
       "      <th>company</th>\n",
       "      <th>title</th>\n",
       "    </tr>\n",
       "  </thead>\n",
       "  <tbody>\n",
       "    <tr>\n",
       "      <th>0</th>\n",
       "      <td>Saras Analytics</td>\n",
       "      <td>Saras Analytics - Business Analyst - SQL/Python</td>\n",
       "    </tr>\n",
       "    <tr>\n",
       "      <th>1</th>\n",
       "      <td>Thomson Reuters</td>\n",
       "      <td>Senior Analyst - Marketing Analytics</td>\n",
       "    </tr>\n",
       "    <tr>\n",
       "      <th>2</th>\n",
       "      <td>Saras Analytics</td>\n",
       "      <td>Saras Analytics - Market Research Analyst</td>\n",
       "    </tr>\n",
       "    <tr>\n",
       "      <th>3</th>\n",
       "      <td>NxtWave</td>\n",
       "      <td>Nxtwave - Search Engine Optimization Analyst</td>\n",
       "    </tr>\n",
       "    <tr>\n",
       "      <th>4</th>\n",
       "      <td>Angel and Genie</td>\n",
       "      <td>HIRE Senior SEM Analyst - Hyderabad</td>\n",
       "    </tr>\n",
       "    <tr>\n",
       "      <th>...</th>\n",
       "      <td>...</td>\n",
       "      <td>...</td>\n",
       "    </tr>\n",
       "    <tr>\n",
       "      <th>249</th>\n",
       "      <td>Amazon</td>\n",
       "      <td>Business Analyst II - AR, Global Vendor Holdbacks</td>\n",
       "    </tr>\n",
       "    <tr>\n",
       "      <th>250</th>\n",
       "      <td>Forward Eye Technology</td>\n",
       "      <td>BI Developer - Azure Analysis Services</td>\n",
       "    </tr>\n",
       "    <tr>\n",
       "      <th>251</th>\n",
       "      <td>ICE</td>\n",
       "      <td>Principal Business Analyst , Reference Data Op...</td>\n",
       "    </tr>\n",
       "    <tr>\n",
       "      <th>252</th>\n",
       "      <td>Garima Interprises</td>\n",
       "      <td>Market Trends</td>\n",
       "    </tr>\n",
       "    <tr>\n",
       "      <th>253</th>\n",
       "      <td>HighRadius</td>\n",
       "      <td>Content Marketing</td>\n",
       "    </tr>\n",
       "  </tbody>\n",
       "</table>\n",
       "<p>254 rows × 2 columns</p>\n",
       "</div>"
      ],
      "text/plain": [
       "                    company                                              title\n",
       "0           Saras Analytics    Saras Analytics - Business Analyst - SQL/Python\n",
       "1           Thomson Reuters               Senior Analyst - Marketing Analytics\n",
       "2           Saras Analytics          Saras Analytics - Market Research Analyst\n",
       "3                   NxtWave       Nxtwave - Search Engine Optimization Analyst\n",
       "4           Angel and Genie                HIRE Senior SEM Analyst - Hyderabad\n",
       "..                      ...                                                ...\n",
       "249                  Amazon  Business Analyst II - AR, Global Vendor Holdbacks\n",
       "250  Forward Eye Technology             BI Developer - Azure Analysis Services\n",
       "251                     ICE  Principal Business Analyst , Reference Data Op...\n",
       "252      Garima Interprises                                      Market Trends\n",
       "253              HighRadius                                  Content Marketing\n",
       "\n",
       "[254 rows x 2 columns]"
      ]
     },
     "execution_count": 16,
     "metadata": {},
     "output_type": "execute_result"
    }
   ],
   "source": [
    "x\n"
   ]
  },
  {
   "cell_type": "code",
   "execution_count": 17,
   "id": "8212c153-476e-4aeb-ae88-805638fdb4fc",
   "metadata": {},
   "outputs": [],
   "source": [
    "jobList = driver.find_elements(By.CLASS_NAME, 'base-card__full-link')\n",
    "hrefList = []\n",
    "for e in jobList:\n",
    "    hrefList.append(e.get_attribute('href'))\n",
    "\n",
    "#for href in hrefList:\n",
    "    #link.append(href)"
   ]
  },
  {
   "cell_type": "code",
   "execution_count": 18,
   "id": "5a256fec-9882-47e9-b296-9a75219e34f4",
   "metadata": {},
   "outputs": [],
   "source": [
    "linklist=pd.DataFrame(hrefList,columns=[\"joblinks\"])\n"
   ]
  },
  {
   "cell_type": "code",
   "execution_count": 19,
   "id": "0d7b56b3-ab9b-4a66-b0fe-706908b264f5",
   "metadata": {},
   "outputs": [],
   "source": [
    "linklist.to_csv('linkedinlinks.csv')"
   ]
  },
  {
   "cell_type": "code",
   "execution_count": 20,
   "id": "35f186bf-b826-4a70-8d87-363ae7ca14ef",
   "metadata": {},
   "outputs": [],
   "source": [
    "result_df = pd.merge(companyfinal, titlefinal, left_index=True, right_index=True)\n",
    "result_df = pd.merge(result_df, linklist, left_index=True, right_index=True)\n",
    "\n",
    "# Save the result DataFrame to a CSV file\n",
    "result_df.to_csv('output.csv', index=False)\n"
   ]
  },
  {
   "cell_type": "code",
   "execution_count": 23,
   "id": "489fc109-a290-4c66-ba96-0323e4a333a1",
   "metadata": {},
   "outputs": [],
   "source": [
    "driver.close()"
   ]
  }
 ],
 "metadata": {
  "kernelspec": {
   "display_name": "Python 3 (ipykernel)",
   "language": "python",
   "name": "python3"
  },
  "language_info": {
   "codemirror_mode": {
    "name": "ipython",
    "version": 3
   },
   "file_extension": ".py",
   "mimetype": "text/x-python",
   "name": "python",
   "nbconvert_exporter": "python",
   "pygments_lexer": "ipython3",
   "version": "3.12.1"
  }
 },
 "nbformat": 4,
 "nbformat_minor": 5
}
